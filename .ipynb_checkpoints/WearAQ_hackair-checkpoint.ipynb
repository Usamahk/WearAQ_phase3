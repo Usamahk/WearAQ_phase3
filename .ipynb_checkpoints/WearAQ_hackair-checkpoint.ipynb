{
 "cells": [
  {
   "cell_type": "markdown",
   "metadata": {},
   "source": [
    "# WearAQ - HackAir"
   ]
  },
  {
   "cell_type": "code",
   "execution_count": 361,
   "metadata": {
    "collapsed": true
   },
   "outputs": [],
   "source": [
    "import pandas as pd\n",
    "%matplotlib inline\n",
    "import matplotlib.pyplot as plt\n",
    "import seaborn; seaborn.set()"
   ]
  },
  {
   "cell_type": "markdown",
   "metadata": {},
   "source": [
    "After some cleaning and merging all the datasets into one sheet, read in the files"
   ]
  },
  {
   "cell_type": "code",
   "execution_count": 362,
   "metadata": {
    "collapsed": true
   },
   "outputs": [],
   "source": [
    "devices = pd.read_csv(\"data/devices.csv\")"
   ]
  },
  {
   "cell_type": "code",
   "execution_count": 363,
   "metadata": {
    "collapsed": true
   },
   "outputs": [],
   "source": [
    "all_devices = devices.dropna(axis = 0)"
   ]
  },
  {
   "cell_type": "code",
   "execution_count": 364,
   "metadata": {},
   "outputs": [
    {
     "name": "stdout",
     "output_type": "stream",
     "text": [
      "<class 'pandas.core.frame.DataFrame'>\n",
      "Int64Index: 712 entries, 0 to 9603\n",
      "Data columns (total 5 columns):\n",
      "Device        712 non-null object\n",
      "geo:long      712 non-null float64\n",
      "geo:lat       712 non-null float64\n",
      "Perception    712 non-null float64\n",
      "Timestamp     712 non-null object\n",
      "dtypes: float64(3), object(2)\n",
      "memory usage: 33.4+ KB\n"
     ]
    }
   ],
   "source": [
    "all_devices.info()"
   ]
  },
  {
   "cell_type": "markdown",
   "metadata": {
    "collapsed": true
   },
   "source": [
    "## Datetime\n",
    "\n",
    "Need to convert the datetime to make sure we can use it as readable date"
   ]
  },
  {
   "cell_type": "markdown",
   "metadata": {},
   "source": [
    "### Methods \n",
    "There's two parts to this, one is converting to make it readable and exract the different datasets - labelling where and when they occured, and then convert to unix so that we can average the time when we come to narrowing down the locations"
   ]
  },
  {
   "cell_type": "code",
   "execution_count": 365,
   "metadata": {
    "collapsed": true
   },
   "outputs": [],
   "source": [
    "timestamp = all_devices['Timestamp']"
   ]
  },
  {
   "cell_type": "code",
   "execution_count": 366,
   "metadata": {
    "collapsed": true
   },
   "outputs": [],
   "source": [
    "timestamp = pd.to_datetime(timestamp, format = '%Y-%m-%d %H:%M:%S.%f')"
   ]
  },
  {
   "cell_type": "code",
   "execution_count": 367,
   "metadata": {},
   "outputs": [
    {
     "name": "stderr",
     "output_type": "stream",
     "text": [
      "/anaconda3/envs/tfdeeplearning/lib/python3.5/site-packages/ipykernel_launcher.py:1: SettingWithCopyWarning: \n",
      "A value is trying to be set on a copy of a slice from a DataFrame.\n",
      "Try using .loc[row_indexer,col_indexer] = value instead\n",
      "\n",
      "See the caveats in the documentation: http://pandas.pydata.org/pandas-docs/stable/indexing.html#indexing-view-versus-copy\n",
      "  \"\"\"Entry point for launching an IPython kernel.\n"
     ]
    }
   ],
   "source": [
    "all_devices['Timestamp'] = timestamp"
   ]
  },
  {
   "cell_type": "code",
   "execution_count": 368,
   "metadata": {},
   "outputs": [
    {
     "name": "stdout",
     "output_type": "stream",
     "text": [
      "<class 'pandas.core.frame.DataFrame'>\n",
      "Int64Index: 712 entries, 0 to 9603\n",
      "Data columns (total 5 columns):\n",
      "Device        712 non-null object\n",
      "geo:long      712 non-null float64\n",
      "geo:lat       712 non-null float64\n",
      "Perception    712 non-null float64\n",
      "Timestamp     712 non-null datetime64[ns]\n",
      "dtypes: datetime64[ns](1), float64(3), object(1)\n",
      "memory usage: 33.4+ KB\n"
     ]
    }
   ],
   "source": [
    "all_devices.info()"
   ]
  },
  {
   "cell_type": "code",
   "execution_count": 369,
   "metadata": {
    "collapsed": true
   },
   "outputs": [],
   "source": [
    "all_devices = all_devices.reset_index(drop=True)"
   ]
  },
  {
   "cell_type": "code",
   "execution_count": 370,
   "metadata": {
    "collapsed": true
   },
   "outputs": [],
   "source": [
    "macclesfield = all_devices[(all_devices['Timestamp'] < '2018-09-19' )]\n",
    "brussels_unesco = all_devices[(all_devices['Timestamp'] < '2018-09-21') & (all_devices['Timestamp'] > '2018-09-19' )]\n",
    "brussels = all_devices[(all_devices['Timestamp'] > '2018-09-21' )]"
   ]
  },
  {
   "cell_type": "code",
   "execution_count": 371,
   "metadata": {},
   "outputs": [
    {
     "data": {
      "text/html": [
       "<div>\n",
       "<style>\n",
       "    .dataframe thead tr:only-child th {\n",
       "        text-align: right;\n",
       "    }\n",
       "\n",
       "    .dataframe thead th {\n",
       "        text-align: left;\n",
       "    }\n",
       "\n",
       "    .dataframe tbody tr th {\n",
       "        vertical-align: top;\n",
       "    }\n",
       "</style>\n",
       "<table border=\"1\" class=\"dataframe\">\n",
       "  <thead>\n",
       "    <tr style=\"text-align: right;\">\n",
       "      <th></th>\n",
       "      <th>Device</th>\n",
       "      <th>geo:long</th>\n",
       "      <th>geo:lat</th>\n",
       "      <th>Perception</th>\n",
       "      <th>Timestamp</th>\n",
       "    </tr>\n",
       "  </thead>\n",
       "  <tbody>\n",
       "    <tr>\n",
       "      <th>50</th>\n",
       "      <td>Device 1</td>\n",
       "      <td>4.352571</td>\n",
       "      <td>50.841249</td>\n",
       "      <td>1.0</td>\n",
       "      <td>2018-12-07 08:02:21</td>\n",
       "    </tr>\n",
       "    <tr>\n",
       "      <th>51</th>\n",
       "      <td>Device 1</td>\n",
       "      <td>4.352239</td>\n",
       "      <td>50.841085</td>\n",
       "      <td>1.0</td>\n",
       "      <td>2018-12-07 08:41:59</td>\n",
       "    </tr>\n",
       "    <tr>\n",
       "      <th>52</th>\n",
       "      <td>Device 1</td>\n",
       "      <td>4.352706</td>\n",
       "      <td>50.841460</td>\n",
       "      <td>4.0</td>\n",
       "      <td>2018-12-07 09:47:08</td>\n",
       "    </tr>\n",
       "    <tr>\n",
       "      <th>53</th>\n",
       "      <td>Device 1</td>\n",
       "      <td>4.352724</td>\n",
       "      <td>50.841472</td>\n",
       "      <td>5.0</td>\n",
       "      <td>2018-12-07 09:48:01</td>\n",
       "    </tr>\n",
       "    <tr>\n",
       "      <th>54</th>\n",
       "      <td>Device 1</td>\n",
       "      <td>4.352753</td>\n",
       "      <td>50.841491</td>\n",
       "      <td>4.0</td>\n",
       "      <td>2018-12-07 09:48:22</td>\n",
       "    </tr>\n",
       "  </tbody>\n",
       "</table>\n",
       "</div>"
      ],
      "text/plain": [
       "      Device  geo:long    geo:lat  Perception           Timestamp\n",
       "50  Device 1  4.352571  50.841249         1.0 2018-12-07 08:02:21\n",
       "51  Device 1  4.352239  50.841085         1.0 2018-12-07 08:41:59\n",
       "52  Device 1  4.352706  50.841460         4.0 2018-12-07 09:47:08\n",
       "53  Device 1  4.352724  50.841472         5.0 2018-12-07 09:48:01\n",
       "54  Device 1  4.352753  50.841491         4.0 2018-12-07 09:48:22"
      ]
     },
     "execution_count": 371,
     "metadata": {},
     "output_type": "execute_result"
    }
   ],
   "source": [
    "brussels.head()"
   ]
  },
  {
   "cell_type": "markdown",
   "metadata": {},
   "source": [
    "Now that we have the data in the required format and have seperated into the different workshops, we can convert to unix later on when we come to reading locations"
   ]
  },
  {
   "cell_type": "markdown",
   "metadata": {},
   "source": [
    "### Writing to csv\n",
    "Just write to a csv so that we have the data on hand if need be"
   ]
  },
  {
   "cell_type": "code",
   "execution_count": 372,
   "metadata": {},
   "outputs": [],
   "source": [
    "brussels.to_csv('data/brussels.csv')\n",
    "brussels_unesco.to_csv('data/brussels_unesco.csv')\n",
    "macclesfield.to_csv('data/macclesfield.csv')"
   ]
  },
  {
   "cell_type": "code",
   "execution_count": null,
   "metadata": {
    "collapsed": true
   },
   "outputs": [],
   "source": []
  },
  {
   "cell_type": "markdown",
   "metadata": {},
   "source": [
    "# Seperating locations\n",
    "\n",
    "For this next part of the prorcess, we need to isolate the locations at which each of these readings occur. Since we dont have that in the back end just yet, it gets messy an oftentimes we're relying on timestamps, location and just guess work. This way, we can get a more accurate idea by looking at the clustering of each.\n",
    "\n",
    "We'll use a methods of spatial clustering refered to as K-Means."
   ]
  },
  {
   "cell_type": "code",
   "execution_count": 373,
   "metadata": {
    "collapsed": true
   },
   "outputs": [],
   "source": [
    "from sklearn.cluster import KMeans\n",
    "import numpy as np   "
   ]
  },
  {
   "cell_type": "markdown",
   "metadata": {
    "collapsed": true
   },
   "source": [
    "So now lets look at each location"
   ]
  },
  {
   "cell_type": "markdown",
   "metadata": {},
   "source": [
    "## Brussels - Dec 2018\n",
    "\n",
    "At this first stop there were  7 Locations - Workshop location + 6 stops.\n",
    "\n",
    "Let's isolate just the longitude and latitudes. Set up variables for use first - make this scalable"
   ]
  },
  {
   "cell_type": "code",
   "execution_count": 374,
   "metadata": {
    "collapsed": true
   },
   "outputs": [],
   "source": [
    "x = brussels[['geo:lat','geo:long']]\n",
    "z = brussels"
   ]
  },
  {
   "cell_type": "code",
   "execution_count": 375,
   "metadata": {},
   "outputs": [
    {
     "data": {
      "text/plain": [
       "(50.839, 50.843)"
      ]
     },
     "execution_count": 375,
     "metadata": {},
     "output_type": "execute_result"
    },
    {
     "data": {
      "image/png": "[encoded data removed]",
      "text/plain": [
       "<matplotlib.figure.Figure at 0x11ab0c2e8>"
      ]
     },
     "metadata": {},
     "output_type": "display_data"
    }
   ],
   "source": [
    "plt.scatter(x['geo:long'],x['geo:lat'])\n",
    "plt.xlim(4.350,4.357)\n",
    "plt.ylim(50.839,50.843)"
   ]
  },
  {
   "cell_type": "markdown",
   "metadata": {},
   "source": [
    "Cluster to get groupings for the different . This way we get the locations and an index number"
   ]
  },
  {
   "cell_type": "code",
   "execution_count": 376,
   "metadata": {},
   "outputs": [
    {
     "name": "stdout",
     "output_type": "stream",
     "text": [
      "[[ 50.84125342   4.35379957]\n",
      " [ 50.83968055   4.35622532]\n",
      " [ 50.84213503   4.35111175]\n",
      " [ 50.84117299   4.35193543]\n",
      " [ 50.83934965   4.35378856]\n",
      " [ 50.84037968   4.35501658]\n",
      " [ 50.8412328    4.35255032]]\n"
     ]
    }
   ],
   "source": [
    "# create kmeans object\n",
    "kmeans = KMeans(n_clusters=7)\n",
    "# fit kmeans object to data\n",
    "kmeans.fit(x)\n",
    "# print location of clusters learned by kmeans object\n",
    "print(kmeans.cluster_centers_)\n",
    "# save new clusters for chart\n",
    "y_km = kmeans.fit_predict(x)\n",
    "predict = kmeans.predict(x)"
   ]
  },
  {
   "cell_type": "markdown",
   "metadata": {},
   "source": [
    "Now let's see about time"
   ]
  },
  {
   "cell_type": "markdown",
   "metadata": {},
   "source": [
    "Convert the datetime to unix time for manipulation"
   ]
  },
  {
   "cell_type": "code",
   "execution_count": 377,
   "metadata": {},
   "outputs": [
    {
     "name": "stderr",
     "output_type": "stream",
     "text": [
      "/anaconda3/envs/tfdeeplearning/lib/python3.5/site-packages/ipykernel_launcher.py:4: SettingWithCopyWarning: \n",
      "A value is trying to be set on a copy of a slice from a DataFrame.\n",
      "Try using .loc[row_indexer,col_indexer] = value instead\n",
      "\n",
      "See the caveats in the documentation: http://pandas.pydata.org/pandas-docs/stable/indexing.html#indexing-view-versus-copy\n",
      "  after removing the cwd from sys.path.\n"
     ]
    }
   ],
   "source": [
    "from datetime import timezone\n",
    "\n",
    "convertunix = lambda x : x.replace(tzinfo=timezone.utc).timestamp()\n",
    "z[\"Timestamp\"] = z['Timestamp'].apply(convertunix)"
   ]
  },
  {
   "cell_type": "code",
   "execution_count": 378,
   "metadata": {},
   "outputs": [
    {
     "name": "stderr",
     "output_type": "stream",
     "text": [
      "/anaconda3/envs/tfdeeplearning/lib/python3.5/site-packages/ipykernel_launcher.py:1: SettingWithCopyWarning: \n",
      "A value is trying to be set on a copy of a slice from a DataFrame.\n",
      "Try using .loc[row_indexer,col_indexer] = value instead\n",
      "\n",
      "See the caveats in the documentation: http://pandas.pydata.org/pandas-docs/stable/indexing.html#indexing-view-versus-copy\n",
      "  \"\"\"Entry point for launching an IPython kernel.\n"
     ]
    }
   ],
   "source": [
    "z['Location'] = predict"
   ]
  },
  {
   "cell_type": "code",
   "execution_count": 379,
   "metadata": {
    "collapsed": true
   },
   "outputs": [],
   "source": [
    "df_brussels = brussels.groupby(['Device','Location'], as_index=False).agg({'Perception':'mean','geo:long':'mean','geo:lat':'mean', 'Timestamp':'mean'})"
   ]
  },
  {
   "cell_type": "code",
   "execution_count": 380,
   "metadata": {},
   "outputs": [
    {
     "name": "stdout",
     "output_type": "stream",
     "text": [
      "<class 'pandas.core.frame.DataFrame'>\n",
      "Int64Index: 46 entries, 0 to 45\n",
      "Data columns (total 6 columns):\n",
      "Device        46 non-null object\n",
      "Location      46 non-null int64\n",
      "geo:long      46 non-null float64\n",
      "Timestamp     46 non-null float64\n",
      "geo:lat       46 non-null float64\n",
      "Perception    46 non-null float64\n",
      "dtypes: float64(4), int64(1), object(1)\n",
      "memory usage: 2.5+ KB\n"
     ]
    }
   ],
   "source": [
    "df_brussels.info()"
   ]
  },
  {
   "cell_type": "code",
   "execution_count": 381,
   "metadata": {
    "collapsed": true
   },
   "outputs": [],
   "source": [
    "df_brussels['Perception'] = round(df_brussels['Perception'])"
   ]
  },
  {
   "cell_type": "code",
   "execution_count": 382,
   "metadata": {},
   "outputs": [
    {
     "data": {
      "text/html": [
       "<div>\n",
       "<style>\n",
       "    .dataframe thead tr:only-child th {\n",
       "        text-align: right;\n",
       "    }\n",
       "\n",
       "    .dataframe thead th {\n",
       "        text-align: left;\n",
       "    }\n",
       "\n",
       "    .dataframe tbody tr th {\n",
       "        vertical-align: top;\n",
       "    }\n",
       "</style>\n",
       "<table border=\"1\" class=\"dataframe\">\n",
       "  <thead>\n",
       "    <tr style=\"text-align: right;\">\n",
       "      <th></th>\n",
       "      <th>Device</th>\n",
       "      <th>Location</th>\n",
       "      <th>geo:long</th>\n",
       "      <th>Timestamp</th>\n",
       "      <th>geo:lat</th>\n",
       "      <th>Perception</th>\n",
       "    </tr>\n",
       "  </thead>\n",
       "  <tbody>\n",
       "    <tr>\n",
       "      <th>0</th>\n",
       "      <td>Device 1</td>\n",
       "      <td>0</td>\n",
       "      <td>4.353823</td>\n",
       "      <td>1.544178e+09</td>\n",
       "      <td>50.839309</td>\n",
       "      <td>4.0</td>\n",
       "    </tr>\n",
       "    <tr>\n",
       "      <th>1</th>\n",
       "      <td>Device 1</td>\n",
       "      <td>1</td>\n",
       "      <td>4.352667</td>\n",
       "      <td>1.544175e+09</td>\n",
       "      <td>50.841394</td>\n",
       "      <td>4.0</td>\n",
       "    </tr>\n",
       "    <tr>\n",
       "      <th>2</th>\n",
       "      <td>Device 1</td>\n",
       "      <td>2</td>\n",
       "      <td>4.356227</td>\n",
       "      <td>1.544178e+09</td>\n",
       "      <td>50.839691</td>\n",
       "      <td>4.0</td>\n",
       "    </tr>\n",
       "    <tr>\n",
       "      <th>3</th>\n",
       "      <td>Device 1</td>\n",
       "      <td>3</td>\n",
       "      <td>4.353770</td>\n",
       "      <td>1.544178e+09</td>\n",
       "      <td>50.841275</td>\n",
       "      <td>4.0</td>\n",
       "    </tr>\n",
       "    <tr>\n",
       "      <th>4</th>\n",
       "      <td>Device 1</td>\n",
       "      <td>4</td>\n",
       "      <td>4.351185</td>\n",
       "      <td>1.544177e+09</td>\n",
       "      <td>50.841987</td>\n",
       "      <td>4.0</td>\n",
       "    </tr>\n",
       "  </tbody>\n",
       "</table>\n",
       "</div>"
      ],
      "text/plain": [
       "     Device  Location  geo:long     Timestamp    geo:lat  Perception\n",
       "0  Device 1         0  4.353823  1.544178e+09  50.839309         4.0\n",
       "1  Device 1         1  4.352667  1.544175e+09  50.841394         4.0\n",
       "2  Device 1         2  4.356227  1.544178e+09  50.839691         4.0\n",
       "3  Device 1         3  4.353770  1.544178e+09  50.841275         4.0\n",
       "4  Device 1         4  4.351185  1.544177e+09  50.841987         4.0"
      ]
     },
     "execution_count": 382,
     "metadata": {},
     "output_type": "execute_result"
    }
   ],
   "source": [
    "df_brussels.head()"
   ]
  },
  {
   "cell_type": "code",
   "execution_count": 383,
   "metadata": {
    "collapsed": true
   },
   "outputs": [],
   "source": [
    "df_brussels_alldev = df_brussels.groupby('Location', as_index=False).agg({'Perception':'mean','geo:long':'mean','geo:lat':'mean', 'Timestamp':'mean'})"
   ]
  },
  {
   "cell_type": "code",
   "execution_count": 384,
   "metadata": {},
   "outputs": [
    {
     "data": {
      "text/html": [
       "<div>\n",
       "<style>\n",
       "    .dataframe thead tr:only-child th {\n",
       "        text-align: right;\n",
       "    }\n",
       "\n",
       "    .dataframe thead th {\n",
       "        text-align: left;\n",
       "    }\n",
       "\n",
       "    .dataframe tbody tr th {\n",
       "        vertical-align: top;\n",
       "    }\n",
       "</style>\n",
       "<table border=\"1\" class=\"dataframe\">\n",
       "  <thead>\n",
       "    <tr style=\"text-align: right;\">\n",
       "      <th></th>\n",
       "      <th>Location</th>\n",
       "      <th>geo:long</th>\n",
       "      <th>Timestamp</th>\n",
       "      <th>geo:lat</th>\n",
       "      <th>Perception</th>\n",
       "    </tr>\n",
       "  </thead>\n",
       "  <tbody>\n",
       "    <tr>\n",
       "      <th>0</th>\n",
       "      <td>0</td>\n",
       "      <td>4.353783</td>\n",
       "      <td>1.544178e+09</td>\n",
       "      <td>50.839362</td>\n",
       "      <td>4.142857</td>\n",
       "    </tr>\n",
       "    <tr>\n",
       "      <th>1</th>\n",
       "      <td>1</td>\n",
       "      <td>4.352563</td>\n",
       "      <td>1.544176e+09</td>\n",
       "      <td>50.841250</td>\n",
       "      <td>3.625000</td>\n",
       "    </tr>\n",
       "    <tr>\n",
       "      <th>2</th>\n",
       "      <td>2</td>\n",
       "      <td>4.356241</td>\n",
       "      <td>1.544178e+09</td>\n",
       "      <td>50.839691</td>\n",
       "      <td>4.000000</td>\n",
       "    </tr>\n",
       "    <tr>\n",
       "      <th>3</th>\n",
       "      <td>3</td>\n",
       "      <td>4.353787</td>\n",
       "      <td>1.544178e+09</td>\n",
       "      <td>50.841253</td>\n",
       "      <td>4.142857</td>\n",
       "    </tr>\n",
       "    <tr>\n",
       "      <th>4</th>\n",
       "      <td>4</td>\n",
       "      <td>4.351119</td>\n",
       "      <td>1.544177e+09</td>\n",
       "      <td>50.842156</td>\n",
       "      <td>3.714286</td>\n",
       "    </tr>\n",
       "    <tr>\n",
       "      <th>5</th>\n",
       "      <td>5</td>\n",
       "      <td>4.355074</td>\n",
       "      <td>1.544178e+09</td>\n",
       "      <td>50.840463</td>\n",
       "      <td>4.500000</td>\n",
       "    </tr>\n",
       "    <tr>\n",
       "      <th>6</th>\n",
       "      <td>6</td>\n",
       "      <td>4.351949</td>\n",
       "      <td>1.544177e+09</td>\n",
       "      <td>50.841174</td>\n",
       "      <td>3.000000</td>\n",
       "    </tr>\n",
       "  </tbody>\n",
       "</table>\n",
       "</div>"
      ],
      "text/plain": [
       "   Location  geo:long     Timestamp    geo:lat  Perception\n",
       "0         0  4.353783  1.544178e+09  50.839362    4.142857\n",
       "1         1  4.352563  1.544176e+09  50.841250    3.625000\n",
       "2         2  4.356241  1.544178e+09  50.839691    4.000000\n",
       "3         3  4.353787  1.544178e+09  50.841253    4.142857\n",
       "4         4  4.351119  1.544177e+09  50.842156    3.714286\n",
       "5         5  4.355074  1.544178e+09  50.840463    4.500000\n",
       "6         6  4.351949  1.544177e+09  50.841174    3.000000"
      ]
     },
     "execution_count": 384,
     "metadata": {},
     "output_type": "execute_result"
    }
   ],
   "source": [
    "df_brussels_alldev"
   ]
  },
  {
   "cell_type": "markdown",
   "metadata": {},
   "source": [
    "Plot the locations of all the points of reading"
   ]
  },
  {
   "cell_type": "code",
   "execution_count": 385,
   "metadata": {},
   "outputs": [
    {
     "data": {
      "text/plain": [
       "(50.839, 50.843)"
      ]
     },
     "execution_count": 385,
     "metadata": {},
     "output_type": "execute_result"
    },
    {
     "data": {
      "image/png": "[encoded data removed]",
      "text/plain": [
       "<matplotlib.figure.Figure at 0x11b1b1da0>"
      ]
     },
     "metadata": {},
     "output_type": "display_data"
    }
   ],
   "source": [
    "plt.scatter(df_brussels_alldev['geo:long'],df_brussels_alldev['geo:lat'])\n",
    "plt.xlim(4.350,4.357)\n",
    "plt.ylim(50.839,50.843)"
   ]
  },
  {
   "cell_type": "markdown",
   "metadata": {},
   "source": [
    "Let's look at plotting this on a scale now"
   ]
  },
  {
   "cell_type": "code",
   "execution_count": 386,
   "metadata": {},
   "outputs": [
    {
     "data": {
      "text/plain": [
       "<matplotlib.collections.PathCollection at 0x11bede898>"
      ]
     },
     "execution_count": 386,
     "metadata": {},
     "output_type": "execute_result"
    },
    {
     "data": {
      "image/png": "[encoded data removed]",
      "text/plain": [
       "<matplotlib.figure.Figure at 0x11b1b1ba8>"
      ]
     },
     "metadata": {},
     "output_type": "display_data"
    }
   ],
   "source": [
    "plt.scatter(df_brussels_alldev['Timestamp'],df_brussels_alldev['Perception'])"
   ]
  },
  {
   "cell_type": "markdown",
   "metadata": {},
   "source": [
    "Lastly, convert the unix time back to proper datetime so we can output and have this as a readable table"
   ]
  },
  {
   "cell_type": "code",
   "execution_count": 387,
   "metadata": {},
   "outputs": [],
   "source": [
    "from datetime import datetime\n",
    "\n",
    "convertutc = lambda x : datetime.utcfromtimestamp(x).strftime('%Y-%m-%d %H:%M:%S')\n",
    "df_brussels_alldev[\"Timestamp\"] = df_brussels_alldev['Timestamp'].apply(convertutc)\n",
    "df_brussels[\"Timestamp\"] = df_brussels['Timestamp'].apply(convertutc)\n"
   ]
  },
  {
   "cell_type": "code",
   "execution_count": 388,
   "metadata": {},
   "outputs": [],
   "source": [
    "df_brussels_alldev.to_csv('brussels_data/brussels_alldevices.csv')\n",
    "df_brussels.to_csv('brussels_data/brussels_all.csv')"
   ]
  },
  {
   "cell_type": "markdown",
   "metadata": {},
   "source": [
    "## Brussels - UNESCO - Oct 2018\n",
    "\n",
    "7 Locations - Workshop location + 6 stops"
   ]
  },
  {
   "cell_type": "code",
   "execution_count": 389,
   "metadata": {
    "collapsed": true
   },
   "outputs": [],
   "source": [
    "x = brussels_unesco[['geo:lat','geo:long']]\n",
    "z = brussels_unesco"
   ]
  },
  {
   "cell_type": "code",
   "execution_count": 390,
   "metadata": {},
   "outputs": [
    {
     "data": {
      "text/plain": [
       "(50.8645, 50.8675)"
      ]
     },
     "execution_count": 390,
     "metadata": {},
     "output_type": "execute_result"
    },
    {
     "data": {
      "image/png": "[encoded data removed]",
      "text/plain": [
       "<matplotlib.figure.Figure at 0x11b1b11d0>"
      ]
     },
     "metadata": {},
     "output_type": "display_data"
    }
   ],
   "source": [
    "plt.scatter(x['geo:long'],x['geo:lat'])\n",
    "plt.xlim(4.304,4.311)\n",
    "plt.ylim(50.8645,50.8675)"
   ]
  },
  {
   "cell_type": "markdown",
   "metadata": {},
   "source": [
    "Cluster the data"
   ]
  },
  {
   "cell_type": "code",
   "execution_count": 391,
   "metadata": {},
   "outputs": [
    {
     "name": "stdout",
     "output_type": "stream",
     "text": [
      "[[ 50.86691565   4.3073802 ]\n",
      " [ 50.86627795   4.30507959]\n",
      " [ 50.86609809   4.3086608 ]\n",
      " [ 50.8656252    4.31029785]\n",
      " [ 50.86502392   4.30833688]\n",
      " [ 50.8649265    4.30633287]\n",
      " [ 50.86654335   4.30915774]]\n"
     ]
    }
   ],
   "source": [
    "# create kmeans object\n",
    "kmeans = KMeans(n_clusters=7)\n",
    "# fit kmeans object to data\n",
    "kmeans.fit(x)\n",
    "# print location of clusters learned by kmeans object\n",
    "print(kmeans.cluster_centers_)\n",
    "# save new clusters for chart\n",
    "y_km = kmeans.fit_predict(x)\n",
    "predict = kmeans.predict(x)"
   ]
  },
  {
   "cell_type": "markdown",
   "metadata": {},
   "source": [
    "Convert time to UNIX"
   ]
  },
  {
   "cell_type": "code",
   "execution_count": 392,
   "metadata": {},
   "outputs": [
    {
     "name": "stderr",
     "output_type": "stream",
     "text": [
      "/anaconda3/envs/tfdeeplearning/lib/python3.5/site-packages/ipykernel_launcher.py:4: SettingWithCopyWarning: \n",
      "A value is trying to be set on a copy of a slice from a DataFrame.\n",
      "Try using .loc[row_indexer,col_indexer] = value instead\n",
      "\n",
      "See the caveats in the documentation: http://pandas.pydata.org/pandas-docs/stable/indexing.html#indexing-view-versus-copy\n",
      "  after removing the cwd from sys.path.\n"
     ]
    }
   ],
   "source": [
    "from datetime import timezone\n",
    "\n",
    "convertunix = lambda x : x.replace(tzinfo=timezone.utc).timestamp()\n",
    "z[\"Timestamp\"] = z['Timestamp'].apply(convertunix)"
   ]
  },
  {
   "cell_type": "code",
   "execution_count": 393,
   "metadata": {},
   "outputs": [
    {
     "name": "stderr",
     "output_type": "stream",
     "text": [
      "/anaconda3/envs/tfdeeplearning/lib/python3.5/site-packages/ipykernel_launcher.py:1: SettingWithCopyWarning: \n",
      "A value is trying to be set on a copy of a slice from a DataFrame.\n",
      "Try using .loc[row_indexer,col_indexer] = value instead\n",
      "\n",
      "See the caveats in the documentation: http://pandas.pydata.org/pandas-docs/stable/indexing.html#indexing-view-versus-copy\n",
      "  \"\"\"Entry point for launching an IPython kernel.\n"
     ]
    }
   ],
   "source": [
    "z['Location'] = predict"
   ]
  },
  {
   "cell_type": "code",
   "execution_count": 394,
   "metadata": {
    "collapsed": true
   },
   "outputs": [],
   "source": [
    "df_brussels_unesco = brussels_unesco.groupby(['Device','Location'], as_index=False).agg({'Perception':'mean','geo:long':'mean','geo:lat':'mean', 'Timestamp':'mean'})"
   ]
  },
  {
   "cell_type": "code",
   "execution_count": 395,
   "metadata": {
    "collapsed": true
   },
   "outputs": [],
   "source": [
    "df_brussels_unesco['Perception'] = round(df_brussels_unesco['Perception'])"
   ]
  },
  {
   "cell_type": "code",
   "execution_count": 396,
   "metadata": {},
   "outputs": [
    {
     "data": {
      "text/html": [
       "<div>\n",
       "<style>\n",
       "    .dataframe thead tr:only-child th {\n",
       "        text-align: right;\n",
       "    }\n",
       "\n",
       "    .dataframe thead th {\n",
       "        text-align: left;\n",
       "    }\n",
       "\n",
       "    .dataframe tbody tr th {\n",
       "        vertical-align: top;\n",
       "    }\n",
       "</style>\n",
       "<table border=\"1\" class=\"dataframe\">\n",
       "  <thead>\n",
       "    <tr style=\"text-align: right;\">\n",
       "      <th></th>\n",
       "      <th>Device</th>\n",
       "      <th>Location</th>\n",
       "      <th>geo:long</th>\n",
       "      <th>Timestamp</th>\n",
       "      <th>geo:lat</th>\n",
       "      <th>Perception</th>\n",
       "    </tr>\n",
       "  </thead>\n",
       "  <tbody>\n",
       "    <tr>\n",
       "      <th>0</th>\n",
       "      <td>Device 1</td>\n",
       "      <td>0</td>\n",
       "      <td>4.308655</td>\n",
       "      <td>1.537434e+09</td>\n",
       "      <td>50.866083</td>\n",
       "      <td>4.0</td>\n",
       "    </tr>\n",
       "    <tr>\n",
       "      <th>1</th>\n",
       "      <td>Device 1</td>\n",
       "      <td>1</td>\n",
       "      <td>4.304944</td>\n",
       "      <td>1.537435e+09</td>\n",
       "      <td>50.866181</td>\n",
       "      <td>4.0</td>\n",
       "    </tr>\n",
       "    <tr>\n",
       "      <th>2</th>\n",
       "      <td>Device 1</td>\n",
       "      <td>2</td>\n",
       "      <td>4.306300</td>\n",
       "      <td>1.537435e+09</td>\n",
       "      <td>50.864883</td>\n",
       "      <td>4.0</td>\n",
       "    </tr>\n",
       "    <tr>\n",
       "      <th>3</th>\n",
       "      <td>Device 1</td>\n",
       "      <td>3</td>\n",
       "      <td>4.310456</td>\n",
       "      <td>1.537436e+09</td>\n",
       "      <td>50.865600</td>\n",
       "      <td>5.0</td>\n",
       "    </tr>\n",
       "    <tr>\n",
       "      <th>4</th>\n",
       "      <td>Device 1</td>\n",
       "      <td>4</td>\n",
       "      <td>4.307120</td>\n",
       "      <td>1.537434e+09</td>\n",
       "      <td>50.866791</td>\n",
       "      <td>3.0</td>\n",
       "    </tr>\n",
       "  </tbody>\n",
       "</table>\n",
       "</div>"
      ],
      "text/plain": [
       "     Device  Location  geo:long     Timestamp    geo:lat  Perception\n",
       "0  Device 1         0  4.308655  1.537434e+09  50.866083         4.0\n",
       "1  Device 1         1  4.304944  1.537435e+09  50.866181         4.0\n",
       "2  Device 1         2  4.306300  1.537435e+09  50.864883         4.0\n",
       "3  Device 1         3  4.310456  1.537436e+09  50.865600         5.0\n",
       "4  Device 1         4  4.307120  1.537434e+09  50.866791         3.0"
      ]
     },
     "execution_count": 396,
     "metadata": {},
     "output_type": "execute_result"
    }
   ],
   "source": [
    "df_brussels_unesco.head()"
   ]
  },
  {
   "cell_type": "code",
   "execution_count": 397,
   "metadata": {},
   "outputs": [],
   "source": [
    "df_brussels_unesco_alldev = df_brussels_unesco.groupby('Location', as_index=False).agg({'Perception':'mean','geo:long':'mean','geo:lat':'mean', 'Timestamp':'mean'})"
   ]
  },
  {
   "cell_type": "code",
   "execution_count": 398,
   "metadata": {},
   "outputs": [
    {
     "data": {
      "text/html": [
       "<div>\n",
       "<style>\n",
       "    .dataframe thead tr:only-child th {\n",
       "        text-align: right;\n",
       "    }\n",
       "\n",
       "    .dataframe thead th {\n",
       "        text-align: left;\n",
       "    }\n",
       "\n",
       "    .dataframe tbody tr th {\n",
       "        vertical-align: top;\n",
       "    }\n",
       "</style>\n",
       "<table border=\"1\" class=\"dataframe\">\n",
       "  <thead>\n",
       "    <tr style=\"text-align: right;\">\n",
       "      <th></th>\n",
       "      <th>Location</th>\n",
       "      <th>geo:long</th>\n",
       "      <th>Timestamp</th>\n",
       "      <th>geo:lat</th>\n",
       "      <th>Perception</th>\n",
       "    </tr>\n",
       "  </thead>\n",
       "  <tbody>\n",
       "    <tr>\n",
       "      <th>0</th>\n",
       "      <td>0</td>\n",
       "      <td>4.308658</td>\n",
       "      <td>1.537434e+09</td>\n",
       "      <td>50.866090</td>\n",
       "      <td>4.166667</td>\n",
       "    </tr>\n",
       "    <tr>\n",
       "      <th>1</th>\n",
       "      <td>1</td>\n",
       "      <td>4.305057</td>\n",
       "      <td>1.537435e+09</td>\n",
       "      <td>50.866257</td>\n",
       "      <td>4.000000</td>\n",
       "    </tr>\n",
       "    <tr>\n",
       "      <th>2</th>\n",
       "      <td>2</td>\n",
       "      <td>4.306355</td>\n",
       "      <td>1.537435e+09</td>\n",
       "      <td>50.864907</td>\n",
       "      <td>4.333333</td>\n",
       "    </tr>\n",
       "    <tr>\n",
       "      <th>3</th>\n",
       "      <td>3</td>\n",
       "      <td>4.310383</td>\n",
       "      <td>1.537436e+09</td>\n",
       "      <td>50.865601</td>\n",
       "      <td>3.833333</td>\n",
       "    </tr>\n",
       "    <tr>\n",
       "      <th>4</th>\n",
       "      <td>4</td>\n",
       "      <td>4.307226</td>\n",
       "      <td>1.537434e+09</td>\n",
       "      <td>50.866912</td>\n",
       "      <td>4.000000</td>\n",
       "    </tr>\n",
       "    <tr>\n",
       "      <th>5</th>\n",
       "      <td>5</td>\n",
       "      <td>4.308400</td>\n",
       "      <td>1.537435e+09</td>\n",
       "      <td>50.865006</td>\n",
       "      <td>4.333333</td>\n",
       "    </tr>\n",
       "    <tr>\n",
       "      <th>6</th>\n",
       "      <td>6</td>\n",
       "      <td>4.309166</td>\n",
       "      <td>1.537434e+09</td>\n",
       "      <td>50.866562</td>\n",
       "      <td>4.333333</td>\n",
       "    </tr>\n",
       "  </tbody>\n",
       "</table>\n",
       "</div>"
      ],
      "text/plain": [
       "   Location  geo:long     Timestamp    geo:lat  Perception\n",
       "0         0  4.308658  1.537434e+09  50.866090    4.166667\n",
       "1         1  4.305057  1.537435e+09  50.866257    4.000000\n",
       "2         2  4.306355  1.537435e+09  50.864907    4.333333\n",
       "3         3  4.310383  1.537436e+09  50.865601    3.833333\n",
       "4         4  4.307226  1.537434e+09  50.866912    4.000000\n",
       "5         5  4.308400  1.537435e+09  50.865006    4.333333\n",
       "6         6  4.309166  1.537434e+09  50.866562    4.333333"
      ]
     },
     "execution_count": 398,
     "metadata": {},
     "output_type": "execute_result"
    }
   ],
   "source": [
    "df_brussels_unesco_alldev"
   ]
  },
  {
   "cell_type": "markdown",
   "metadata": {},
   "source": [
    "Plot locations of readings"
   ]
  },
  {
   "cell_type": "code",
   "execution_count": 399,
   "metadata": {},
   "outputs": [
    {
     "data": {
      "text/plain": [
       "(50.8645, 50.8675)"
      ]
     },
     "execution_count": 399,
     "metadata": {},
     "output_type": "execute_result"
    },
    {
     "data": {
      "image/png": "[encoded data removed]",
      "text/plain": [
       "<matplotlib.figure.Figure at 0x10c3a4dd8>"
      ]
     },
     "metadata": {},
     "output_type": "display_data"
    }
   ],
   "source": [
    "plt.scatter(df_brussels_unesco_alldev['geo:long'],df_brussels_unesco_alldev['geo:lat'])\n",
    "plt.xlim(4.304,4.311)\n",
    "plt.ylim(50.8645,50.8675)"
   ]
  },
  {
   "cell_type": "code",
   "execution_count": 400,
   "metadata": {},
   "outputs": [
    {
     "data": {
      "text/plain": [
       "<matplotlib.collections.PathCollection at 0x11b1b11d0>"
      ]
     },
     "execution_count": 400,
     "metadata": {},
     "output_type": "execute_result"
    },
    {
     "data": {
      "image/png": "[encoded data removed]",
      "text/plain": [
       "<matplotlib.figure.Figure at 0x11b4f9320>"
      ]
     },
     "metadata": {},
     "output_type": "display_data"
    }
   ],
   "source": [
    "plt.scatter(df_brussels_unesco_alldev['Timestamp'],df_brussels_unesco_alldev['Perception'])"
   ]
  },
  {
   "cell_type": "code",
   "execution_count": 401,
   "metadata": {
    "collapsed": true
   },
   "outputs": [],
   "source": [
    "from datetime import datetime\n",
    "\n",
    "convertutc = lambda x : datetime.utcfromtimestamp(x).strftime('%Y-%m-%d %H:%M:%S')\n",
    "df_brussels_unesco_alldev[\"Timestamp\"] = df_brussels_unesco_alldev['Timestamp'].apply(convertutc)\n",
    "df_brussels_unesco[\"Timestamp\"] = df_brussels_unesco['Timestamp'].apply(convertutc)\n"
   ]
  },
  {
   "cell_type": "code",
   "execution_count": 402,
   "metadata": {},
   "outputs": [],
   "source": [
    "df_brussels_unesco_alldev.to_csv('brussels_unesco_data/brussels_unesco_alldevices.csv')\n",
    "df_brussels_unesco.to_csv('brussels_unesco_data/brussels_unesco_all.csv')"
   ]
  },
  {
   "cell_type": "markdown",
   "metadata": {},
   "source": [
    "## Macclesfield - June 2018\n",
    "\n",
    "9 Locations - Workshop location + 8 stops"
   ]
  },
  {
   "cell_type": "code",
   "execution_count": 403,
   "metadata": {
    "collapsed": true
   },
   "outputs": [],
   "source": [
    "x = macclesfield[['geo:lat','geo:long']]\n",
    "z = macclesfield"
   ]
  },
  {
   "cell_type": "code",
   "execution_count": 404,
   "metadata": {},
   "outputs": [
    {
     "data": {
      "text/plain": [
       "(53.249, 53.253)"
      ]
     },
     "execution_count": 404,
     "metadata": {},
     "output_type": "execute_result"
    },
    {
     "data": {
      "image/png": "[encoded data removed]",
      "text/plain": [
       "<matplotlib.figure.Figure at 0x11b94c748>"
      ]
     },
     "metadata": {},
     "output_type": "display_data"
    }
   ],
   "source": [
    "plt.scatter(x['geo:long'],x['geo:lat'])\n",
    "plt.xlim(-2.122,-2.116)\n",
    "plt.ylim(53.249,53.253)"
   ]
  },
  {
   "cell_type": "markdown",
   "metadata": {
    "collapsed": true
   },
   "source": [
    "Cluster the data"
   ]
  },
  {
   "cell_type": "code",
   "execution_count": 405,
   "metadata": {},
   "outputs": [
    {
     "name": "stdout",
     "output_type": "stream",
     "text": [
      "[[ 53.25196481  -2.12022525]\n",
      " [ 53.2512868   -2.11842457]\n",
      " [ 53.25017887  -2.12103217]\n",
      " [ 53.25187928  -2.1168708 ]\n",
      " [ 53.2512617   -2.12126364]\n",
      " [ 53.2499444   -2.1193921 ]\n",
      " [ 53.25230104  -2.12121007]]\n"
     ]
    }
   ],
   "source": [
    "# create kmeans object\n",
    "kmeans = KMeans(n_clusters=7)\n",
    "# fit kmeans object to data\n",
    "kmeans.fit(x)\n",
    "# print location of clusters learned by kmeans object\n",
    "print(kmeans.cluster_centers_)\n",
    "# save new clusters for chart\n",
    "y_km = kmeans.fit_predict(x)\n",
    "predict = kmeans.predict(x)"
   ]
  },
  {
   "cell_type": "markdown",
   "metadata": {},
   "source": [
    "Convert to UNIX"
   ]
  },
  {
   "cell_type": "code",
   "execution_count": 406,
   "metadata": {},
   "outputs": [
    {
     "name": "stderr",
     "output_type": "stream",
     "text": [
      "/anaconda3/envs/tfdeeplearning/lib/python3.5/site-packages/ipykernel_launcher.py:4: SettingWithCopyWarning: \n",
      "A value is trying to be set on a copy of a slice from a DataFrame.\n",
      "Try using .loc[row_indexer,col_indexer] = value instead\n",
      "\n",
      "See the caveats in the documentation: http://pandas.pydata.org/pandas-docs/stable/indexing.html#indexing-view-versus-copy\n",
      "  after removing the cwd from sys.path.\n"
     ]
    }
   ],
   "source": [
    "from datetime import timezone\n",
    "\n",
    "convertunix = lambda x : x.replace(tzinfo=timezone.utc).timestamp()\n",
    "z[\"Timestamp\"] = z['Timestamp'].apply(convertunix)"
   ]
  },
  {
   "cell_type": "code",
   "execution_count": 407,
   "metadata": {},
   "outputs": [
    {
     "name": "stderr",
     "output_type": "stream",
     "text": [
      "/anaconda3/envs/tfdeeplearning/lib/python3.5/site-packages/ipykernel_launcher.py:1: SettingWithCopyWarning: \n",
      "A value is trying to be set on a copy of a slice from a DataFrame.\n",
      "Try using .loc[row_indexer,col_indexer] = value instead\n",
      "\n",
      "See the caveats in the documentation: http://pandas.pydata.org/pandas-docs/stable/indexing.html#indexing-view-versus-copy\n",
      "  \"\"\"Entry point for launching an IPython kernel.\n"
     ]
    }
   ],
   "source": [
    "z['Location'] = predict"
   ]
  },
  {
   "cell_type": "code",
   "execution_count": 408,
   "metadata": {
    "collapsed": true
   },
   "outputs": [],
   "source": [
    "df_macclesfield = macclesfield.groupby(['Device','Location'], as_index=False).agg({'Perception':'mean','geo:long':'mean','geo:lat':'mean', 'Timestamp':'mean'})"
   ]
  },
  {
   "cell_type": "code",
   "execution_count": 409,
   "metadata": {
    "collapsed": true
   },
   "outputs": [],
   "source": [
    "df_macclesfield['Perception'] = round(df_macclesfield['Perception'])"
   ]
  },
  {
   "cell_type": "code",
   "execution_count": 410,
   "metadata": {},
   "outputs": [
    {
     "data": {
      "text/html": [
       "<div>\n",
       "<style>\n",
       "    .dataframe thead tr:only-child th {\n",
       "        text-align: right;\n",
       "    }\n",
       "\n",
       "    .dataframe thead th {\n",
       "        text-align: left;\n",
       "    }\n",
       "\n",
       "    .dataframe tbody tr th {\n",
       "        vertical-align: top;\n",
       "    }\n",
       "</style>\n",
       "<table border=\"1\" class=\"dataframe\">\n",
       "  <thead>\n",
       "    <tr style=\"text-align: right;\">\n",
       "      <th></th>\n",
       "      <th>Device</th>\n",
       "      <th>geo:long</th>\n",
       "      <th>geo:lat</th>\n",
       "      <th>Perception</th>\n",
       "      <th>Timestamp</th>\n",
       "      <th>Location</th>\n",
       "    </tr>\n",
       "  </thead>\n",
       "  <tbody>\n",
       "    <tr>\n",
       "      <th>97</th>\n",
       "      <td>Device 3</td>\n",
       "      <td>-2.118454</td>\n",
       "      <td>53.251609</td>\n",
       "      <td>5.0</td>\n",
       "      <td>1.528557e+09</td>\n",
       "      <td>1</td>\n",
       "    </tr>\n",
       "    <tr>\n",
       "      <th>98</th>\n",
       "      <td>Device 3</td>\n",
       "      <td>-2.119173</td>\n",
       "      <td>53.251614</td>\n",
       "      <td>5.0</td>\n",
       "      <td>1.528557e+09</td>\n",
       "      <td>1</td>\n",
       "    </tr>\n",
       "    <tr>\n",
       "      <th>99</th>\n",
       "      <td>Device 3</td>\n",
       "      <td>-2.119520</td>\n",
       "      <td>53.251902</td>\n",
       "      <td>5.0</td>\n",
       "      <td>1.528557e+09</td>\n",
       "      <td>2</td>\n",
       "    </tr>\n",
       "    <tr>\n",
       "      <th>100</th>\n",
       "      <td>Device 3</td>\n",
       "      <td>-2.119650</td>\n",
       "      <td>53.251895</td>\n",
       "      <td>4.0</td>\n",
       "      <td>1.528557e+09</td>\n",
       "      <td>2</td>\n",
       "    </tr>\n",
       "    <tr>\n",
       "      <th>101</th>\n",
       "      <td>Device 3</td>\n",
       "      <td>-2.121024</td>\n",
       "      <td>53.250206</td>\n",
       "      <td>5.0</td>\n",
       "      <td>1.528558e+09</td>\n",
       "      <td>0</td>\n",
       "    </tr>\n",
       "  </tbody>\n",
       "</table>\n",
       "</div>"
      ],
      "text/plain": [
       "       Device  geo:long    geo:lat  Perception     Timestamp  Location\n",
       "97   Device 3 -2.118454  53.251609         5.0  1.528557e+09         1\n",
       "98   Device 3 -2.119173  53.251614         5.0  1.528557e+09         1\n",
       "99   Device 3 -2.119520  53.251902         5.0  1.528557e+09         2\n",
       "100  Device 3 -2.119650  53.251895         4.0  1.528557e+09         2\n",
       "101  Device 3 -2.121024  53.250206         5.0  1.528558e+09         0"
      ]
     },
     "execution_count": 410,
     "metadata": {},
     "output_type": "execute_result"
    }
   ],
   "source": [
    "macclesfield.head()"
   ]
  },
  {
   "cell_type": "code",
   "execution_count": 411,
   "metadata": {},
   "outputs": [],
   "source": [
    "df_macclesfield_alldev = df_macclesfield.groupby('Location', as_index=False).agg({'Perception':'mean','geo:long':'mean','geo:lat':'mean', 'Timestamp':'mean'})"
   ]
  },
  {
   "cell_type": "code",
   "execution_count": 412,
   "metadata": {},
   "outputs": [
    {
     "data": {
      "text/html": [
       "<div>\n",
       "<style>\n",
       "    .dataframe thead tr:only-child th {\n",
       "        text-align: right;\n",
       "    }\n",
       "\n",
       "    .dataframe thead th {\n",
       "        text-align: left;\n",
       "    }\n",
       "\n",
       "    .dataframe tbody tr th {\n",
       "        vertical-align: top;\n",
       "    }\n",
       "</style>\n",
       "<table border=\"1\" class=\"dataframe\">\n",
       "  <thead>\n",
       "    <tr style=\"text-align: right;\">\n",
       "      <th></th>\n",
       "      <th>Location</th>\n",
       "      <th>geo:long</th>\n",
       "      <th>Timestamp</th>\n",
       "      <th>geo:lat</th>\n",
       "      <th>Perception</th>\n",
       "    </tr>\n",
       "  </thead>\n",
       "  <tbody>\n",
       "    <tr>\n",
       "      <th>0</th>\n",
       "      <td>0</td>\n",
       "      <td>-2.121047</td>\n",
       "      <td>1.528558e+09</td>\n",
       "      <td>53.250181</td>\n",
       "      <td>5.000000</td>\n",
       "    </tr>\n",
       "    <tr>\n",
       "      <th>1</th>\n",
       "      <td>1</td>\n",
       "      <td>-2.118450</td>\n",
       "      <td>1.528558e+09</td>\n",
       "      <td>53.251277</td>\n",
       "      <td>4.500000</td>\n",
       "    </tr>\n",
       "    <tr>\n",
       "      <th>2</th>\n",
       "      <td>2</td>\n",
       "      <td>-2.119998</td>\n",
       "      <td>1.528557e+09</td>\n",
       "      <td>53.251926</td>\n",
       "      <td>4.333333</td>\n",
       "    </tr>\n",
       "    <tr>\n",
       "      <th>3</th>\n",
       "      <td>3</td>\n",
       "      <td>-2.116889</td>\n",
       "      <td>1.528558e+09</td>\n",
       "      <td>53.251895</td>\n",
       "      <td>3.333333</td>\n",
       "    </tr>\n",
       "    <tr>\n",
       "      <th>4</th>\n",
       "      <td>4</td>\n",
       "      <td>-2.119400</td>\n",
       "      <td>1.528558e+09</td>\n",
       "      <td>53.249933</td>\n",
       "      <td>4.400000</td>\n",
       "    </tr>\n",
       "    <tr>\n",
       "      <th>5</th>\n",
       "      <td>5</td>\n",
       "      <td>-2.121277</td>\n",
       "      <td>1.528558e+09</td>\n",
       "      <td>53.251235</td>\n",
       "      <td>4.600000</td>\n",
       "    </tr>\n",
       "    <tr>\n",
       "      <th>6</th>\n",
       "      <td>6</td>\n",
       "      <td>-2.121196</td>\n",
       "      <td>1.528557e+09</td>\n",
       "      <td>53.252315</td>\n",
       "      <td>4.600000</td>\n",
       "    </tr>\n",
       "  </tbody>\n",
       "</table>\n",
       "</div>"
      ],
      "text/plain": [
       "   Location  geo:long     Timestamp    geo:lat  Perception\n",
       "0         0 -2.121047  1.528558e+09  53.250181    5.000000\n",
       "1         1 -2.118450  1.528558e+09  53.251277    4.500000\n",
       "2         2 -2.119998  1.528557e+09  53.251926    4.333333\n",
       "3         3 -2.116889  1.528558e+09  53.251895    3.333333\n",
       "4         4 -2.119400  1.528558e+09  53.249933    4.400000\n",
       "5         5 -2.121277  1.528558e+09  53.251235    4.600000\n",
       "6         6 -2.121196  1.528557e+09  53.252315    4.600000"
      ]
     },
     "execution_count": 412,
     "metadata": {},
     "output_type": "execute_result"
    }
   ],
   "source": [
    "df_macclesfield_alldev"
   ]
  },
  {
   "cell_type": "code",
   "execution_count": 413,
   "metadata": {},
   "outputs": [
    {
     "data": {
      "text/plain": [
       "(53.249, 53.253)"
      ]
     },
     "execution_count": 413,
     "metadata": {},
     "output_type": "execute_result"
    },
    {
     "data": {
      "image/png": "[encoded data removed]",
      "text/plain": [
       "<matplotlib.figure.Figure at 0x11b9b3f60>"
      ]
     },
     "metadata": {},
     "output_type": "display_data"
    }
   ],
   "source": [
    "plt.scatter(df_macclesfield_alldev['geo:long'],df_macclesfield_alldev['geo:lat'])\n",
    "plt.xlim(-2.122,-2.116)\n",
    "plt.ylim(53.249,53.253)"
   ]
  },
  {
   "cell_type": "code",
   "execution_count": 414,
   "metadata": {},
   "outputs": [
    {
     "data": {
      "text/plain": [
       "<matplotlib.collections.PathCollection at 0x11b99f940>"
      ]
     },
     "execution_count": 414,
     "metadata": {},
     "output_type": "execute_result"
    },
    {
     "data": {
      "image/png": "[encoded data removed]",
      "text/plain": [
       "<matplotlib.figure.Figure at 0x11ab08cf8>"
      ]
     },
     "metadata": {},
     "output_type": "display_data"
    }
   ],
   "source": [
    "plt.scatter(df_macclesfield_alldev['Timestamp'],df_macclesfield_alldev['Perception'])"
   ]
  },
  {
   "cell_type": "code",
   "execution_count": 415,
   "metadata": {
    "collapsed": true
   },
   "outputs": [],
   "source": [
    "from datetime import datetime\n",
    "\n",
    "convertutc = lambda x : datetime.utcfromtimestamp(x).strftime('%Y-%m-%d %H:%M:%S')\n",
    "df_macclesfield_alldev[\"Timestamp\"] = df_macclesfield_alldev['Timestamp'].apply(convertutc)\n",
    "df_macclesfield[\"Timestamp\"] = df_macclesfield['Timestamp'].apply(convertutc)\n"
   ]
  },
  {
   "cell_type": "code",
   "execution_count": 416,
   "metadata": {
    "collapsed": true
   },
   "outputs": [],
   "source": [
    "df_macclesfield_alldev.to_csv('macclesfield_data/macclesfield_alldevices.csv')\n",
    "df_macclesfield.to_csv('macclesfield_data/macclesfield_all.csv')"
   ]
  },
  {
   "cell_type": "code",
   "execution_count": null,
   "metadata": {
    "collapsed": true
   },
   "outputs": [],
   "source": []
  }
 ],
 "metadata": {
  "kernelspec": {
   "display_name": "Python 3",
   "language": "python",
   "name": "python3"
  },
  "language_info": {
   "codemirror_mode": {
    "name": "ipython",
    "version": 3
   },
   "file_extension": ".py",
   "mimetype": "text/x-python",
   "name": "python",
   "nbconvert_exporter": "python",
   "pygments_lexer": "ipython3",
   "version": "3.5.4"
  }
 },
 "nbformat": 4,
 "nbformat_minor": 2
}
